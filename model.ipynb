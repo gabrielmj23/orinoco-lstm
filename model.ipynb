{
 "cells": [
  {
   "cell_type": "markdown",
   "id": "e3c76adf",
   "metadata": {},
   "source": [
    "# Red neuronal LSTM para predecir niveles del río Orinoco"
   ]
  },
  {
   "cell_type": "code",
   "execution_count": null,
   "id": "cfaf65e4",
   "metadata": {},
   "outputs": [],
   "source": []
  }
 ],
 "metadata": {
  "language_info": {
   "name": "python"
  }
 },
 "nbformat": 4,
 "nbformat_minor": 5
}
